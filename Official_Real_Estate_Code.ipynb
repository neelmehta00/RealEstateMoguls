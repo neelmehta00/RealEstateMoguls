{
  "nbformat": 4,
  "nbformat_minor": 0,
  "metadata": {
    "colab": {
      "name": "Official Real Estate Code ",
      "provenance": [],
      "include_colab_link": true
    },
    "kernelspec": {
      "name": "python3",
      "display_name": "Python 3"
    }
  },
  "cells": [
    {
      "cell_type": "markdown",
      "metadata": {
        "id": "view-in-github",
        "colab_type": "text"
      },
      "source": [
        "<a href=\"https://colab.research.google.com/github/neelmehta00/RealEstateMoguls/blob/master/Official_Real_Estate_Code.ipynb\" target=\"_parent\"><img src=\"https://colab.research.google.com/assets/colab-badge.svg\" alt=\"Open In Colab\"/></a>"
      ]
    },
    {
      "cell_type": "markdown",
      "metadata": {
        "id": "V7TtrGtltNGb",
        "colab_type": "text"
      },
      "source": [
        "# 1. Importing models, functions to be used"
      ]
    },
    {
      "cell_type": "code",
      "metadata": {
        "id": "KxkDayPPsJJD",
        "colab_type": "code",
        "colab": {}
      },
      "source": [
        "monthly_avg = [393.4, 395.5, 395.5, 398, 401, 404.6, 407.9, 412.9, 414.9, 416.9, 416.9, 418.2, 419.7, 423.1, 424.6, 424.6, 426.8, 430, 430, 430.8, 431.9, 433, 434.4, 436.8, 438, 442.1, 442.1, 444.3, 444.9, 445.2, 448.7, 451.2, 452.4, 452.4, 455.6, 458.2, 459.4, 458.7, 458.4, 458.4, 458.7, 460.7, 461.3, 462.3, 462.7, 464.2, 465.3, 465.2, 464.1, 462.9, 462.7, 463.2, 464.1, 464.2, 464.1, 463.7, 463.4, 463, 462.5, 462.7, 464.4, 465.6, 465.6, 461.3, 457.8, 455.8, 454.3, 453.1, 452.5, 452.1, 452.1, 452]\n",
        "import pandas as pd\n",
        "import math\n",
        "import random\n",
        "import scipy.stats as stats\n",
        "import numpy as np\n",
        "from sklearn import linear_model\n",
        "import statsmodels.api as sm\n",
        "from sklearn.model_selection import train_test_split\n",
        "R = 6373.0\n",
        "\n",
        "#This is a function for distance(km) between two points given their lat and longs. \n",
        "def LatLongDist(lat1, long1, lat2, long2):\n",
        "  A = math.radians(lat1)\n",
        "  B = math.radians(long1)\n",
        "  C = math.radians(lat2)\n",
        "  D = math.radians(long2)\n",
        "  dlon = D - B\n",
        "  dlat = C - A\n",
        "  a = math.sin(dlat / 2)**2 + math.cos(A) * math.cos(C) * math.sin(dlon / 2)**2\n",
        "  c = 2 * math.atan2(math.sqrt(a), math.sqrt(1-a))\n",
        "  return R * c\n",
        "\n",
        "#Below is non-Traditional scoring function. \n",
        "\n",
        "def score_from_distances(house_to_stores, d1,d2,d3,d4,d5):\n",
        "  count1 = 0\n",
        "  count2 = 0\n",
        "  count3 = 0\n",
        "  count5 = 0 \n",
        "  count7 = 0\n",
        "  score = 10\n",
        "  for dist in house_to_stores:\n",
        "    if dist <= d1:\n",
        "      count1 += 1\n",
        "    if dist <= d2:\n",
        "      count2 += 1\n",
        "    if dist <= d3:\n",
        "      count3 += 1\n",
        "    if dist <= d4:\n",
        "      count5 += 1\n",
        "    if dist <= d5:\n",
        "      count7 += 1\n",
        "  if count1 >= 2:\n",
        "    pass\n",
        "  elif count1 >= 1:\n",
        "    score -= 1\n",
        "  elif count2 >= 2:\n",
        "    score -= 2\n",
        "  elif count2 >= 1:\n",
        "    score -= 3\n",
        "  elif count3 >= 2:\n",
        "    score -= 4\n",
        "  elif count3 >= 1:\n",
        "    score -= 5\n",
        "  elif count5 >= 2:\n",
        "    score -= 6\n",
        "  elif count5 >= 1:\n",
        "    score -= 7\n",
        "  elif count7 >= 2:\n",
        "    score -= 8\n",
        "  elif count7 >= 1:\n",
        "    score -= 9\n",
        "  else: score = 0\n",
        "  return score\n",
        "\n",
        "#Below is the atypical scoring function for inferior stores (fastfood)\n",
        "def score_from_inferiors(house_to_stores, d1,d2,d3,d4,d5):\n",
        "  count1 = 0\n",
        "  count2 = 0\n",
        "  count3 = 0\n",
        "  count4 = 0 \n",
        "  count5 = 0\n",
        "  score = 10\n",
        "  for dist in house_to_stores:\n",
        "    if dist > d5:\n",
        "      count1 += 1\n",
        "    if dist >= d4:\n",
        "      count2 += 1\n",
        "    if dist >= d3:\n",
        "      count3 += 1\n",
        "    if dist >= d2:\n",
        "      count4 += 1\n",
        "    if dist >= d1:\n",
        "      count5 += 1\n",
        "  if count1 == 1:\n",
        "    pass\n",
        "  elif count1 >= 2:\n",
        "    score -= 1\n",
        "  elif count2 == 1:\n",
        "    score -= 2\n",
        "  elif count2 >= 2:\n",
        "    score -= 3\n",
        "  elif count3 == 1:\n",
        "    score -= 4\n",
        "  elif count3 >= 2:\n",
        "    score -= 5\n",
        "  elif count4 == 1:\n",
        "    score -= 6\n",
        "  elif count4 >= 2:\n",
        "    score -= 7\n",
        "  elif count5 == 1:\n",
        "    score -= 8\n",
        "  elif count5 >= 2:\n",
        "    score -= 9\n",
        "  else: score = 0\n",
        "  return score"
      ],
      "execution_count": 20,
      "outputs": []
    },
    {
      "cell_type": "markdown",
      "metadata": {
        "id": "opfuC9QHvY7Q",
        "colab_type": "text"
      },
      "source": [
        "# 2. Preprocessing Houses(1/3)\n",
        "\n"
      ]
    },
    {
      "cell_type": "code",
      "metadata": {
        "id": "HrIDpBQ7vedP",
        "colab_type": "code",
        "colab": {
          "base_uri": "https://localhost:8080/",
          "height": 51
        },
        "outputId": "d940909c-8af3-43d6-e696-38d1b7de487e"
      },
      "source": [
        "house_df = pd.read_csv('https://raw.githubusercontent.com/neelmehta00/RealEstateMoguls/master/NewZest.csv')\n",
        "print(len(house_df))\n",
        "address = house_df[\" Address\"]\n",
        "price = house_df[\" Price\"]\n",
        "link = house_df[\" link\"]\n",
        "link1 = house_df[\" link1\"]\n",
        "listdrop1 = []\n",
        "\n",
        "\n",
        "#FIRST, getting rid of duplicate houses\n",
        "for i in range(len(house_df)): \n",
        "  for j in range(len(house_df)):\n",
        "    if i != j:\n",
        "      if address.iloc[i] == address.iloc[j] and price.iloc[i] == price.iloc[j]:\n",
        "        listdrop1.append(i)\n",
        "\n",
        "\n",
        "#SECOND, house from 1before 2015, 2useless zestimates, 3price is nan\n",
        "for i in range(len(house_df)):\n",
        "    if not(house_df[' price2'].iloc[i] > 0 and (int(house_df[' date2'].iloc[i][-4:]) >= 2015)): # from before 2015\n",
        "      listdrop1.append(i)\n",
        "    if house_df[' ZestYear 2015'].iloc[i] == \"Today\" or house_df[' ZestYear 2015'].iloc[i] == \"Listed for\": # useless zestimates\n",
        "      listdrop1.append(i)\n",
        "    if math.isnan(house_df[' ZestPrice 2020'].iloc[i]) or math.isnan(house_df[' ZestPrice 2015 '].iloc[i]): #nan\n",
        "      listdrop1.append(i)\n",
        "\n",
        "      \n",
        "dictOfYear = {}\n",
        "listdrop2 = []\n",
        "for i in range(len(listdrop1)):\n",
        "  year = listdrop1[i]\n",
        "  dictOfYear[year] = listdrop1[i]\n",
        "for key in dictOfYear:\n",
        "  listdrop2.append(key)\n",
        "\n",
        "\n",
        "for item in listdrop2:\n",
        "  house_df.drop([item], axis=0, inplace=True)\n",
        "print(len(house_df))"
      ],
      "execution_count": 21,
      "outputs": [
        {
          "output_type": "stream",
          "text": [
            "511\n",
            "185\n"
          ],
          "name": "stdout"
        }
      ]
    },
    {
      "cell_type": "markdown",
      "metadata": {
        "id": "mUe2TjSSlFM_",
        "colab_type": "text"
      },
      "source": [
        "# Preprocessing Houses (2/3)"
      ]
    },
    {
      "cell_type": "code",
      "metadata": {
        "id": "TItoLAlzlEQZ",
        "colab_type": "code",
        "colab": {
          "base_uri": "https://localhost:8080/",
          "height": 156
        },
        "outputId": "7ecae111-ddc6-4456-a6ad-1395b9d305fd"
      },
      "source": [
        "#THIRD, get final_date, final_price, index_list, initial_date, initial_price, and monthly_change\n",
        "\n",
        "index_list = []\n",
        "final_date = []\n",
        "final_price = []\n",
        "absolute_list = []\n",
        "lat_list = []\n",
        "long_list = []\n",
        "count = 0\n",
        "for index, row in house_df.iterrows():\n",
        "  index_list.append(index)\n",
        "  #COME BACK TO THIS!!!!!!!!! (need to account for 2 digit months)\n",
        "  \n",
        "  \n",
        "  if (int(row[\" date1\"][0])) < 5:\n",
        "    final_date.append(row[' date1'])\n",
        "    final_price.append(row[' price1'])\n",
        "  else:\n",
        "    if int(row[' price1']) < int(row[' price2']) and int(row[' date2'][-4:]) == 2020 and ((int(row[\" date1\"][0])) - (int(row[\" date2\"][0])) < 6):\n",
        "      count = count + 1\n",
        "      final_date.append(row[' date2'])\n",
        "      final_price.append(row[' price2'])\n",
        "    else:\n",
        "      final_date.append(row[' date1'])\n",
        "      final_price.append(row[' price1'])\n",
        "\n",
        "  absolute_list.append(row['absolute'])\n",
        "  lat_list.append(row[' Latitude'])\n",
        "  long_list.append(row[' Longitude'])\n",
        "print(\"# houses affected by corona: \", count)\n",
        "\n",
        "initial_date = []\n",
        "initial_price = []\n",
        "count = 0\n",
        "for index, row in house_df.iterrows():\n",
        "  count = count + 1\n",
        "  if (row[' price7'] > 0) and (int(row[' date7'][-4:]) >= 2015):\n",
        "    initial_date.append(row[' date7'])\n",
        "    initial_price.append(row[' price7'])\n",
        "  elif (row[' price6'] > 0) and (int(row[' date6'][-4:]) >= 2015):\n",
        "    initial_date.append(row[' date6'])\n",
        "    initial_price.append(row[' price6'])\n",
        "  elif (row[' price5'] > 0) and (int(row[' date5'][-4:]) >= 2015):\n",
        "    initial_date.append(row[' date5'])\n",
        "    initial_price.append(row[' price5'])\n",
        "  elif (row[' price4'] > 0) and (int(row[' date4'][-4:]) >= 2015):\n",
        "    initial_date.append(row[' date4'])\n",
        "    initial_price.append(row[' price4'])\n",
        "  elif (row[' price3'] > 0) and (int(row[' date3'][-4:]) >= 2015):\n",
        "    initial_date.append(row[' date3'])\n",
        "    initial_price.append(row[' price3'])\n",
        "  else:\n",
        "    initial_date.append(row[' date2'])\n",
        "    initial_price.append(row[' price2'])\n",
        "\n",
        "\n",
        "print(\"house count after first processing: %d\"%len(initial_price))\n",
        "print(\"\")\n",
        "\n",
        "#getting rid of same year/month\n",
        "year_one = house_df[\" ZestPrice 2015 \"]\n",
        "year2015 = []\n",
        "for i in range(len(year_one)):\n",
        "  year2015.append(year_one.iloc[i])\n",
        "\n",
        "\n",
        "year_six = house_df[' ZestPrice 2020']\n",
        "year2020 = []\n",
        "for i in range(len(year_six)):\n",
        "  year2020.append(year_six.iloc[i])\n",
        "\n",
        "index_list2 = []\n",
        "for i in range(len(initial_date)):\n",
        "  if initial_date[i][-4:] == final_date[i][-4:] and initial_date[i][:2] == final_date[i][:2]:\n",
        "    index_list2.append(i)\n",
        "\n",
        "to_subtract = 0\n",
        "\n",
        "while len(index_list2) > 0:\n",
        "  ind = index_list2.pop(0) - to_subtract\n",
        "  del initial_date[ind]\n",
        "  del initial_price[ind]\n",
        "  del final_date[ind]\n",
        "  del final_price[ind]\n",
        "  del absolute_list[ind]\n",
        "  del lat_list[ind]\n",
        "  del long_list[ind]\n",
        "  del year2015[ind]\n",
        "  del year2020[ind]\n",
        "\n",
        "  to_subtract += 1\n",
        "\n",
        "print(\"house count after getting rid of same year/month: %d\"%len(final_price))\n",
        "print(\"\")\n",
        "\n",
        "#getting monthly change list, the target\n",
        "\n",
        "#mount pleasant average prices\n",
        "monthly_change = []\n",
        "for i in range(len(initial_date)):\n",
        "  try:\n",
        "    initial = (int(initial_date[i][-4:]) - 2015) * 12 + int(initial_date[i][:2])\n",
        "  except:\n",
        "    initial = (int(initial_date[i][-4:]) - 2015) * 12 + int(initial_date[i][:1])\n",
        "\n",
        "  try:\n",
        "    final = (int(final_date[i][-4:]) - 2015) * 12 + int(final_date[i][:2])\n",
        "  except:\n",
        "    final = (int(final_date[i][-4:]) - 2015) * 12 + int(final_date[i][:1])\n",
        "  num_month = final - initial\n",
        "  MP_avg = (((monthly_avg[final]/monthly_avg[initial])**(1/(num_month))) - 1) * 100\n",
        "  house_avg = (((final_price[i]/initial_price[i])**(1/num_month) - 1) * 100)\n",
        "  monthly_change.append(house_avg - MP_avg)\n",
        "\n",
        "print(\"monthly_change: \", monthly_change)\n",
        "print(\"monthly change length: %d\" %len(monthly_change))\n",
        "data = {'house_absolute': absolute_list,\n",
        "        'initial date': initial_date,\n",
        "        'initial price': initial_price,\n",
        "        'final date': final_date,\n",
        "        'final price': final_price,\n",
        "        'monthly change': monthly_change,\n",
        "        'latitude' : lat_list,\n",
        "        'longitude' : long_list,\n",
        "        'year2015': year2015,\n",
        "        'year2020':year2020\n",
        "        }\n",
        "house_df2 = pd.DataFrame(data, columns = ['house_absolute', 'initial date', 'initial price', 'final date', 'final price', 'monthly change', 'latitude', 'longitude',  'year2015', 'year2020'])"
      ],
      "execution_count": 22,
      "outputs": [
        {
          "output_type": "stream",
          "text": [
            "# houses affected by corona:  101\n",
            "house count after first processing: 185\n",
            "\n",
            "house count after getting rid of same year/month: 154\n",
            "\n",
            "monthly_change:  [0.007383271526562041, -0.8376117565893404, -0.17386458465421528, 3.9379797435336927, -0.246627219525275, -0.6038118078849575, -1.7463799912242228, -0.2904913076321236, -0.715954961096843, 0.6325177355252398, 0.12325365221407258, 1.165890780747092, 0.051945831253052965, -1.8403583094156795, 2.0716351441732117, 1.1898271283025563, -0.44258824964931165, -0.25737272109841447, -0.8145536105775841, 3.746197153551556, 0.13242109909512578, -0.1404644817322831, 0.03941098394486531, 10.020478645195608, -0.05636549614976838, 0.7850668832750096, -0.04882840384524689, 0.7587253414264028, 0.36781692669478616, -0.698873068058381, 0.4729466701342666, -0.26959152382247664, 32.04639047958048, -0.0235560375539956, -0.413158374505429, 0.666786490033866, -3.4429936002327244, 0.3690525261574873, -0.014969354878524577, -0.1562738881686565, 0.1593809476351682, -0.04520730972537024, -4.929782037845454, 0.0770805952008069, -0.025690460368466006, -0.026783854353862324, 6.235883819636179, -0.08957255670656306, 0.44291749143456904, 2.8752782419522616, 0.21693101833450967, -1.2181329834470067, 0.2853328936686772, 0.03285231253803422, 0.8826944173542683, 0.06996646758907765, -1.0170041882611947, 0.28603301294577443, 51.00153804725524, 0.21957805260219843, 0.021733236361320962, 2.042166126193734, 0.8969726357004659, 0.13920370340032573, 0.6558785950701473, 0.4860310605081075, 0.003413653989636778, 0.4789221630923546, -2.823910105807892, 0.18214528830553522, 0.08839779005523907, -0.26570832973568104, 12.184472452320882, 14.629359182798684, 0.3225359844251985, 26.914760111981018, -0.22979467016164268, 185.15688285340886, 1.1175678545082834, -0.13750745367164807, 0.16528842953953404, -3.6886062505966155, 0.26980879261829793, 0.8303909611925286, -0.1660545452800144, 0.7848063557880924, -0.4359573772637626, 0.4737994523730027, 0.15807669638505661, 1.098815270300768, -4.783871247812211, 0.0437134650838944, 24.4536179745934, 0.6702385349164452, 0.6202898435301529, -0.14375145687087754, -0.8941578513300574, 0.0816706208913276, 0.17840869892309374, 0.22348853608376018, 0.38809321816499764, 0.16571842267991688, 0.11747828418919859, 0.3433942435635884, 0.3730248051663221, 0.05331339876928354, 1.27094693205817, 0.703819523700222, 0.18186701038624964, -3.7624781425619314, 0.7429275311334416, 0.4587829593288406, 0.754275119094705, 21.719665295703003, 0.09400409326760784, -0.0639730287727791, -5.314201994586787, 1.1415502487246654, 0.35746722361866823, -0.20535147492170003, 0.7050116479063062, 418.98442831940264, -3.0273953907839157, 0.2852474967283358, 0.22789221138814764, 0.6464732984028387, 0.7145168580861894, 1.5213236360658966, 7.729721853263616, -0.5847654751223397, 0.060103404865807786, 0.06722407806869501, -0.20276961619838385, 0.7800223596465261, 0.0379261603928871, 0.06710818528612439, -3.7468892457324654, 1.2166460674151836, 0.057784495912183154, 0.7210118573366175, 23.82275976223216, 0.8134594722162269, 24.556228219503765, -0.9293384274180916, 1.4652943829574827, 14.735462892176665, 14.219672037937613, 0.9050072505383477, 0.6008174524346543, 0.4562720069741344, 0.44604635325931064, 33.43793236589517, 0.4002769270561979, 11.248021129107102]\n",
            "monthly change length: 154\n"
          ],
          "name": "stdout"
        }
      ]
    },
    {
      "cell_type": "markdown",
      "metadata": {
        "id": "uR7dyjblqebi",
        "colab_type": "text"
      },
      "source": [
        "# Preprocessing Houses (3/3)"
      ]
    },
    {
      "cell_type": "code",
      "metadata": {
        "id": "9NmWMOSkqh_a",
        "colab_type": "code",
        "colab": {
          "base_uri": "https://localhost:8080/",
          "height": 85
        },
        "outputId": "4f43aff3-1dd2-4d6c-8670-2d65fe407dfa"
      },
      "source": [
        "#THIS IS FOR STATISTICALLY DEFINED OUTLEIRS, BUT THAT LEADS TO TOO MANY OF THEM\n",
        "\n",
        "monthly_change2 = monthly_change\n",
        "monthly_change2.sort()\n",
        "Q1 = monthly_change2[29]\n",
        "Q3 = monthly_change2[87]\n",
        "IQR = Q3 - Q1\n",
        "upper_bound = Q3 + 1.5 * IQR\n",
        "lower_bound = Q1 - 1.5 * IQR\n",
        "\n",
        "listdrop2 = []\n",
        "for index, row in house_df2.iterrows():\n",
        "  if row['monthly change'] > upper_bound or row['monthly change'] < lower_bound:\n",
        "    listdrop2.append(index)\n",
        "print(\"upper: %f\"%upper_bound)\n",
        "print(\"lower: %f\"%lower_bound)\n",
        "\n",
        "print(\"number of statistical outliers in terms of monthly change: %d\"%len(listdrop2))\n",
        "\n",
        "\n",
        "for item in listdrop2:\n",
        "  house_df2.drop([item], axis=0, inplace=True)\n",
        "\n",
        "print(\"house count after getting rid of outliers: %d\" % len(house_df2))"
      ],
      "execution_count": 23,
      "outputs": [
        {
          "output_type": "stream",
          "text": [
            "upper: 1.264234\n",
            "lower: -1.126212\n",
            "number of statistical outliers in terms of monthly change: 38\n",
            "house count after getting rid of outliers: 116\n"
          ],
          "name": "stdout"
        }
      ]
    },
    {
      "cell_type": "markdown",
      "metadata": {
        "id": "VoJlrSXorU3Z",
        "colab_type": "text"
      },
      "source": [
        "# 3. Preparing Atypical data and scores for houses\n",
        "\n"
      ]
    },
    {
      "cell_type": "code",
      "metadata": {
        "id": "f2zb60k7rSRb",
        "colab_type": "code",
        "colab": {
          "base_uri": "https://localhost:8080/",
          "height": 51
        },
        "outputId": "ae7aa718-51ed-4a06-f083-5a3e01c704a4"
      },
      "source": [
        "grocery_df = pd.read_csv(\"https://raw.githubusercontent.com/neelmehta00/RealEstateMoguls/master/Real%20Estate%20-%20grocery.csv\")\n",
        "coffeeshop_df = pd.read_csv('https://raw.githubusercontent.com/neelmehta00/RealEstateMoguls/master/Real%20Estate%20-%20Coffee%20Shops.csv')\n",
        "fastfood_df = pd.read_csv('https://raw.githubusercontent.com/neelmehta00/RealEstateMoguls/master/Real%20Estate%20-%20FastFood.csv')\n",
        "parks_df = pd.read_csv('https://raw.githubusercontent.com/neelmehta00/RealEstateMoguls/master/Real%20Estate%20-%20Parks.csv')\n",
        "gas_df = pd.read_csv('https://raw.githubusercontent.com/neelmehta00/RealEstateMoguls/master/Real%20Estate%20-%20gas.csv')\n",
        "theater_df = pd.read_csv('https://raw.githubusercontent.com/neelmehta00/RealEstateMoguls/master/Real%20Estate%20-%20Movie%20Theater.csv')\n",
        "wholefoods_df = pd.read_csv(\"https://raw.githubusercontent.com/neelmehta00/RealEstateMoguls/master/Real%20Estate%20-%20WholeFoods.csv\")\n",
        "\n",
        "grocery_latlist = grocery_df['Latitude']\n",
        "grocery_longlist = grocery_df['Longitude']\n",
        "coffeeshop_latlist = coffeeshop_df['Latitude']\n",
        "coffeeshop_longlist = coffeeshop_df['Longitude']\n",
        "fastfood_latlist = fastfood_df['Latitude']\n",
        "fastfood_longlist = fastfood_df['Longitude']\n",
        "parks_latlist = parks_df['Latitude']\n",
        "parks_longlist = parks_df['Longitude']\n",
        "gas_latlist = gas_df['Latitude']\n",
        "gas_longlist = gas_df['Longitude']\n",
        "theater_latlist = theater_df['Latitude']\n",
        "theater_longlist = theater_df['Longitude']\n",
        "wholefoods_latlist = wholefoods_df['Latitude']\n",
        "wholefoods_longlist = wholefoods_df['Longitude']\n",
        "\n",
        "house_latlist = house_df2['latitude']\n",
        "house_longlist = house_df2['longitude']\n",
        "\n",
        "categories_latlist = [grocery_latlist, coffeeshop_latlist, fastfood_latlist, parks_latlist, gas_latlist, theater_latlist, wholefoods_latlist]\n",
        "categories_longlist = [grocery_longlist, coffeeshop_longlist, fastfood_longlist, parks_longlist, gas_longlist, theater_longlist, wholefoods_longlist]\n",
        "num_categories = len(categories_latlist)\n",
        "num_houses = len(house_df2)\n",
        "big_list = []\n",
        "\n",
        "grocscorelist = []\n",
        "cofscorelist = []\n",
        "ffscorelist = []\n",
        "parkscorelist = []\n",
        "gasscoreslist = []\n",
        "theaterscorelist = []\n",
        "wfscorelist = []\n",
        "\n",
        "for i in range(num_houses):\n",
        "  house_list = []\n",
        "  for j in range(num_categories):\n",
        "    num_stores = len(categories_latlist[j])\n",
        "    dist_to_stores = [LatLongDist(float(house_latlist.iloc[i]), float(house_longlist.iloc[i]), float(categories_latlist[j].iloc[a]), float(categories_longlist[j].iloc[a])) for a in range(num_stores)]\n",
        "\n",
        "    if j == 0: #grocery\n",
        "      house_list.append(score_from_distances(dist_to_stores, 0.03965, .4588, 1.28916, 3.94706,4.63319))\n",
        "      grocscorelist.append(score_from_distances(dist_to_stores, 0.03965, .4588, 1.28916, 3.94706,4.63319))\n",
        "    elif j == 1: #coffeeshop\n",
        "      house_list.append(score_from_distances(dist_to_stores, .24646, .623074, 1.56503, 3.42349,4.01676))\n",
        "      cofscorelist.append(score_from_distances(dist_to_stores, .24646, .623074, 1.56503, 3.42349,4.01676))\n",
        "    elif j == 2: #fastfood\n",
        "      house_list.append(score_from_inferiors(dist_to_stores, 0.45706, 0.807129, 2.9667, 3.87406, 4.70226))\n",
        "      ffscorelist.append(score_from_inferiors(dist_to_stores, 0.45706, 0.807129, 2.9667, 3.87406, 4.70226))\n",
        "    elif j == 3: #parks\n",
        "      house_list.append(score_from_distances(dist_to_stores, .18968, .60710, 1.89989, 3.56676,4.11641))\n",
        "      parkscorelist.append(score_from_distances(dist_to_stores, .18968, .60710, 1.89989, 3.56676,4.11641))\n",
        "    elif j == 4: #gas\n",
        "      house_list.append(score_from_distances(dist_to_stores, .59958, 1.59736, 2.90703, 3.33313,4.97810))\n",
        "      gasscoreslist.append(score_from_distances(dist_to_stores, .59958, 1.59736, 2.90703, 3.33313,4.97810))\n",
        "    elif j == 5: #theater\n",
        "      house_list.append(score_from_distances(dist_to_stores, .31673, 1.9024, 2.9417,3.61168, 4.71139))\n",
        "      theaterscorelist.append(score_from_distances(dist_to_stores, .31673, 1.9024, 2.9417,3.61168, 4.71139))\n",
        "    elif j == 6: #wholefoods\n",
        "      house_list.append(score_from_distances(dist_to_stores, .3122, .9226, 1.29546, 1.6959,2.9939))\n",
        "      wfscorelist.append(score_from_distances(dist_to_stores, .3122, .9226, 1.29546, 1.6959,2.9939))\n",
        "  big_list.append(house_list)\n",
        "\n",
        "print(len(wfscorelist))\n",
        "print(len(grocscorelist))"
      ],
      "execution_count": 24,
      "outputs": [
        {
          "output_type": "stream",
          "text": [
            "116\n",
            "116\n"
          ],
          "name": "stdout"
        }
      ]
    },
    {
      "cell_type": "markdown",
      "metadata": {
        "id": "AE5rob7jBHzj",
        "colab_type": "text"
      },
      "source": [
        "# 4. Preparing Typical data"
      ]
    },
    {
      "cell_type": "code",
      "metadata": {
        "id": "h-jTJ8F-EzuD",
        "colab_type": "code",
        "colab": {
          "base_uri": "https://localhost:8080/",
          "height": 34
        },
        "outputId": "3187b2e4-90b3-4ccb-e078-4685f6f46089"
      },
      "source": [
        "#list of annul growth rate for zest\n",
        "#percent change for zestimate\n",
        "year_1 = house_df2[\"year2015\"]\n",
        "year_6 = house_df2[\"year2020\"]\n",
        "\n",
        "\n",
        "biglist1 = []\n",
        "for i in range(len(house_df2)):\n",
        "  biglist1.append((((year_6.iloc[i]/year_1.iloc[i])**(0.2)) - 1) * 100)\n",
        "\n",
        "print(len(biglist1))"
      ],
      "execution_count": 25,
      "outputs": [
        {
          "output_type": "stream",
          "text": [
            "116\n"
          ],
          "name": "stdout"
        }
      ]
    },
    {
      "cell_type": "code",
      "metadata": {
        "id": "pbx3QhDNBHY-",
        "colab_type": "code",
        "colab": {
          "base_uri": "https://localhost:8080/",
          "height": 527
        },
        "outputId": "9dee6e9a-6193-4e6b-9f8e-f4c632bcec98"
      },
      "source": [
        "#list of annul growth rate for zest\n",
        "#percent change for zestimate\n",
        "year_1 = house_df2[\"year2015\"]\n",
        "year_6 = house_df2[\"year2020\"]\n",
        "\n",
        "avgmpch = 3.378\n",
        "\n",
        "biglist1 = []\n",
        "for i in range(len(house_df2)):\n",
        "  biglist1.append((((year_6.iloc[i]/year_1.iloc[i])**(0.2)) - 1) * 100)\n",
        "\n",
        "listB = [(biglist1[i] - avgmpch) for i in range(len(biglist1))]\n",
        "listB_np = np.array(listB)\n",
        "dez = stats.zscore(listB_np)\n",
        "print(\"Z-Scores\")\n",
        "print(dez)\n",
        "nonavgscore = [] \n",
        "tempnonavgscore =[]\n",
        "listB = []\n",
        "for i in range(len(biglist1)):\n",
        "\n",
        "    comp = dez[i]\n",
        "    score = 0\n",
        "    if(comp <= -4):\n",
        "      score = 1\n",
        "    elif(comp <= -3):\n",
        "      score = -6\n",
        "    elif(comp <= -2):\n",
        "      score = -3\n",
        "    elif(comp <= -1):\n",
        "      score = -1\n",
        "    elif(comp <= -0.5):\n",
        "      score = -0.5\n",
        "    elif(comp <= 0.5):\n",
        "      score = 0.5\n",
        "    elif(comp <= 1):\n",
        "      score = 1\n",
        "    elif(comp <= 2):\n",
        "      score = 3\n",
        "    elif(comp <= 3):\n",
        "      score = 6\n",
        "    elif(comp <= 4):\n",
        "      score = 10\n",
        "    else:\n",
        "      score = 15\n",
        "    tempnonavgscore.append(score)\n",
        "    listB.append(comp)\n",
        "\n",
        "    \n",
        "traditionalscores = tempnonavgscore\n",
        "for i in range(len(big_list)):\n",
        "  big_list[i].append(tempnonavgscore[i])"
      ],
      "execution_count": 26,
      "outputs": [
        {
          "output_type": "stream",
          "text": [
            "Z-Scores\n",
            "[-2.23212408e+00 -2.11595441e+00  3.88212476e-01 -6.22123848e-01\n",
            "  2.19210638e+00  3.17116951e-01  1.96292195e-01  1.71992528e+00\n",
            " -5.04536530e-01  8.61705543e-01  2.55820297e+00 -5.73664010e-01\n",
            " -1.66405766e-01 -3.97912259e-01 -1.66405766e-01 -5.99850974e-01\n",
            " -5.99850974e-01 -5.06664552e-01 -2.11818627e-01 -5.42431002e-01\n",
            " -8.98033926e-01 -3.84871991e-01 -2.09029917e-01  4.96702260e-01\n",
            " -1.06982615e-01 -5.00721835e-01  2.84614975e+00 -6.07664535e-01\n",
            " -1.07787990e+00 -1.78538683e-01  6.19021933e-01 -7.61543667e-01\n",
            "  4.42367573e+00  2.04146180e-01 -4.89311586e-01 -6.07229098e-01\n",
            " -7.91785717e-01 -9.65582516e-01  5.29596631e+00 -5.14446629e-01\n",
            " -5.37882695e-01  1.18828875e+00 -1.39551164e+00 -8.88895545e-01\n",
            " -6.00693210e-01 -4.25630857e-01 -7.10267371e-01  4.13813655e-01\n",
            " -9.45535319e-01 -3.75622256e-01 -5.76354646e-01  1.27938909e+00\n",
            " -9.58195157e-02  3.79415747e-01  5.70470389e-01 -3.84702558e-01\n",
            " -1.39866449e+00  5.49758080e-01 -4.43505864e-01 -2.03952547e-01\n",
            " -5.31304432e-01  7.66406163e-02 -3.17025420e-01  5.38835160e-01\n",
            " -2.71457086e-02 -1.91767583e-02  2.45991210e-01  6.84670778e-01\n",
            " -4.16666791e-01 -4.00759801e-01 -2.53944865e-01 -2.93433726e-01\n",
            "  4.24903404e-01  5.18781736e-01  5.03385029e-01 -5.29021661e-01\n",
            " -4.64154430e-01 -2.60894847e-01 -2.77292065e-01 -4.14300814e-01\n",
            " -8.10723536e-01  1.73639214e-01 -6.71681525e-02 -3.83978383e-01\n",
            "  1.41180756e-01 -3.46516750e-03 -8.98033926e-01 -5.69102591e-01\n",
            " -4.18375621e-01 -5.72912584e-01 -2.92101575e-01  7.74936477e-01\n",
            "  3.96479359e-01  1.70300890e-02 -1.13772517e-01  1.48506486e+00\n",
            "  1.69221382e-01  6.19224043e-01 -1.06706658e+00 -6.63262627e-01\n",
            " -9.31275956e-02  9.29645031e-02 -6.71426044e-01  4.15654502e-02\n",
            " -9.31275956e-02  9.29645031e-02 -1.80816454e-01  6.38689841e-01\n",
            "  1.71948683e-01  1.38990924e+00 -2.88189752e-02  2.37111883e-03\n",
            "  8.96553794e-01  2.54735848e-01  2.74478933e-01  3.22279472e-01]\n"
          ],
          "name": "stdout"
        }
      ]
    },
    {
      "cell_type": "markdown",
      "metadata": {
        "id": "cT4M0itEIC64",
        "colab_type": "text"
      },
      "source": [
        "# 5. Running the Model"
      ]
    },
    {
      "cell_type": "code",
      "metadata": {
        "id": "lDDLt_9tIFF1",
        "colab_type": "code",
        "colab": {
          "base_uri": "https://localhost:8080/",
          "height": 51
        },
        "outputId": "dcf82e53-0c79-41b6-ea99-ccebc4f87ef1"
      },
      "source": [
        "#first define accuracy and prediction funtions\n",
        "def get_accuracy(margin, actualList, predList):\n",
        "  length = len(actualList)\n",
        "  correct = 0\n",
        "  for i in range(length):\n",
        "    if abs(actualList[i] - predList[i]) <= margin:\n",
        "      correct += 1\n",
        "  return (correct / length * 100)\n",
        "def predict(scores_from_categories, intercept, coef_list):\n",
        "    returnVal = 0\n",
        "    for i in range(len(scores_from_categories)):\n",
        "      returnVal += scores_from_categories[i] * coef_list[i]\n",
        "    return (returnVal + intercept)\n",
        "\n",
        "score = 0\n",
        "coef = [0, 0, 0, 0, 0, 0, 0, 0]    \n",
        "for i in range(10000):  \n",
        "  X = big_list\n",
        "  Y = []\n",
        "  for target in house_df2['monthly change']:\n",
        "    Y.append(target)\n",
        "  x_train, x_test, y_train, y_test = train_test_split(X, Y, test_size=0.25)\n",
        "\n",
        "  regr = linear_model.LinearRegression()\n",
        "  regr.fit(x_train, y_train)\n",
        "  \n",
        "  pred_list = []\n",
        "  for score_list in x_test:\n",
        "    pred_list.append(predict(score_list, regr.intercept_, regr.coef_))\n",
        "  \n",
        "  score += get_accuracy(1, y_test, pred_list)\n",
        "  for i in range(len(coef)):\n",
        "    coef[i] += regr.coef_[i]\n",
        "\n",
        "#Average Accuracy After 10,000 Tests\n",
        "#Items in the list are coefficients for percent change in atypical categories\n",
        "#For our 1-10 scale for each category, for every adiitional point a house recieves for its atypical factor category, it will go up the coefficient percent\n",
        "#Coeffiecent respresents slope for multiple regression model\n",
        "# ~ 94% is our current accuracy for our ML model\n",
        "# Categories are grocery, coffee, fastfood, parks, gas, theater, whole foods/trader joes, traditional factors (Bed,Bath,Square Foot etc.)\n",
        "print(\"Accuray: %f\"%(score/10000)) \n",
        "for i in range(len(coef)):\n",
        "  coef[i] = coef[i]/10000\n",
        "print(coef) "
      ],
      "execution_count": 27,
      "outputs": [
        {
          "output_type": "stream",
          "text": [
            "Accuray: 93.966552\n",
            "[0.06901561813810242, 0.001310554771868826, -9.336919775274695e-19, -0.0028709390800724702, 0.03917993076306286, -0.028854876343492968, -0.044001973815324856, 0.02135399732407789]\n"
          ],
          "name": "stdout"
        }
      ]
    }
  ]
}