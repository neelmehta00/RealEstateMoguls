{
  "nbformat": 4,
  "nbformat_minor": 0,
  "metadata": {
    "colab": {
      "name": "Matching Neel and Ryuno Links",
      "provenance": [],
      "authorship_tag": "ABX9TyPar5AmCLCil7bdz1ntmRl3",
      "include_colab_link": true
    },
    "kernelspec": {
      "name": "python3",
      "display_name": "Python 3"
    }
  },
  "cells": [
    {
      "cell_type": "markdown",
      "metadata": {
        "id": "view-in-github",
        "colab_type": "text"
      },
      "source": [
        "<a href=\"https://colab.research.google.com/github/neelmehta00/RealEstateMoguls/blob/master/Matching_Neel_and_Ryuno_Links.ipynb\" target=\"_parent\"><img src=\"https://colab.research.google.com/assets/colab-badge.svg\" alt=\"Open In Colab\"/></a>"
      ]
    },
    {
      "cell_type": "code",
      "metadata": {
        "id": "DQS4CZzAsPub",
        "colab_type": "code",
        "colab": {}
      },
      "source": [
        "import pandas as pd\n",
        "\n",
        "\n",
        "neel_df = pd.read_csv(\"https://raw.githubusercontent.com/neelmehta00/realestate/master/Neel.csv\")\n",
        "ryuno_df = pd.read_csv(\"https://raw.githubusercontent.com/neelmehta00/realestate/master/Ryuno.csv\")\n",
        "\n",
        "\n",
        "filename = \"NewZest.csv\"\n",
        "f = open(filename, \"w\")\n",
        "\n",
        "headers = \"absolute, link, Address, Latitude, Longitude, Price, #Bed, #Bath, Square Foot, Year Built, date1, price1, date2, price2, date3, price3, date4, price4, date5, price5, date6, price6, date7, price7, link1, ZestYear 2015, ZestPrice 2015 , ZestYear 2016, ZestPrice 2016, ZestYear 2017, ZestPrice 2017, ZestYear 2018, ZestPrice 2018, ZestYear 2019, ZestPrice 2019, ZestYear 2020, ZestPrice 2020\\n\"\n",
        "f.write(headers)\n",
        "\n",
        "count = 0\n",
        "for i in range(len(ryuno_df)):\n",
        "    link = ryuno_df[\"lin\"].iloc[i]\n",
        "    for j in range(len(neel_df)):\n",
        "        link1 = neel_df[\"lin1\"].iloc[j]\n",
        "        if link == link1:\n",
        "            temp = str(ryuno_df[\"absolute\"][i]) + \",\" + str(ryuno_df[\"lin\"][i]) + \",\" + str(ryuno_df[\"Address\"][i]) + \",\" + str(ryuno_df[\"Latitude\"][i]) + \",\" + str(ryuno_df[\"Longitude\"][i]) + \",\" + str(ryuno_df[\"Price\"][i]) + \",\" + str(ryuno_df[\"#Bed\"][i]) + \",\" + str(ryuno_df[\"#Bath\"][i]) + \",\" + str(ryuno_df[\"Square Foot\"][i]) + \",\" + str(ryuno_df[\"Year Built\"][i]) + \",\" + str(ryuno_df[\"date1\"][i]) + \",\" + str(ryuno_df[\"price1\"][i]) + \",\" + str(ryuno_df[\"date2\"][i]) + \",\" + str(ryuno_df[\"price2\"][i]) + \",\" + str(ryuno_df[\"date3\"][i]) + \",\" + str(ryuno_df[\"price3\"][i]) + \",\" + str(ryuno_df[\"date4\"][i]) + \",\" + str(ryuno_df[\"price4\"][i]) + \",\" + str(ryuno_df[\"date5\"][i]) + \",\" + str(ryuno_df[\"price5\"][i]) + \",\" + str(ryuno_df[\"date6\"][i]) + \",\" + str(ryuno_df[\"price6\"][i]) + \",\" + str(ryuno_df[\"date7\"][i]) + \",\" + str(ryuno_df[\"price7\"][i]) + \",\" + str(neel_df[\"lin1\"][j]) + \",\" + str(neel_df[\"ZestYear 2015\"][j]) + \",\" + str(neel_df[\"ZestPrice 2015\"][j]) + \",\" + str(neel_df[\"ZestYear 2016\"][j]) + \",\" + str(neel_df[\"ZestPrice 2016\"][j]) + \",\" + str(neel_df[\"ZestYear 2017\"][j]) + \",\" + str(neel_df[\"ZestPrice 2017\"][j]) + \",\" + str(neel_df[\"ZestYear 2018\"][j]) + \",\" + str(neel_df[\"ZestPrice 2018\"][j]) + \",\" + str(neel_df[\"ZestYear 2019\"][j]) + \",\" + str(neel_df[\"ZestPrice 2019\"][j]) + \",\" + str(neel_df[\"ZestYear 2020\"][j]) + \",\" + str(neel_df[\"ZestPrice 2020\"][j])\n",
        "            temp = temp + '\\n'\n",
        "            f.write(temp)          \n",
        "f.close()"
      ],
      "execution_count": null,
      "outputs": []
    }
  ]
}